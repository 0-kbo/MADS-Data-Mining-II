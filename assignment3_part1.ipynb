{
 "cells": [
  {
   "cell_type": "code",
   "execution_count": 1,
   "metadata": {
    "deletable": false,
    "editable": false,
    "nbgrader": {
     "checksum": "262ee4f1cc793d5cc0302d24cbc64461",
     "grade": false,
     "grade_id": "cell-aa820d6aaf4304db",
     "locked": true,
     "schema_version": 1,
     "solution": false
    }
   },
   "outputs": [],
   "source": [
    "version = \"REPLACE_PACKAGE_VERSION\""
   ]
  },
  {
   "cell_type": "markdown",
   "metadata": {
    "deletable": false,
    "editable": false,
    "nbgrader": {
     "checksum": "5820a78215f2be98f9c3c44453540960",
     "grade": false,
     "grade_id": "cell-24e63ee011a83003",
     "locked": true,
     "schema_version": 1,
     "solution": false
    }
   },
   "source": [
    "---\n",
    "# Assignment 3 Part 1: Single Time Series Forecasting (50 pts)\n",
    "\n",
    "In this assignment, we're going to practise forecasting a single time series. "
   ]
  },
  {
   "cell_type": "code",
   "execution_count": 2,
   "metadata": {
    "deletable": false,
    "editable": false,
    "nbgrader": {
     "checksum": "d940d1b99e988cc02a4365af87abae75",
     "grade": false,
     "grade_id": "cell-0153dc3ed86e1f61",
     "locked": true,
     "schema_version": 1,
     "solution": false
    }
   },
   "outputs": [],
   "source": [
    "import numpy as np\n",
    "import pandas as pd\n",
    "import matplotlib.pyplot as plt\n",
    "%matplotlib inline\n",
    "\n",
    "from pandas.plotting import register_matplotlib_converters\n",
    "register_matplotlib_converters()\n",
    "\n",
    "# Suppress warnings\n",
    "import warnings\n",
    "from statsmodels.tools.sm_exceptions import ValueWarning\n",
    "warnings.simplefilter(\"ignore\", ValueWarning)"
   ]
  },
  {
   "cell_type": "markdown",
   "metadata": {
    "deletable": false,
    "editable": false,
    "nbgrader": {
     "checksum": "03b238a216f1b5d3f9424fb61088c189",
     "grade": false,
     "grade_id": "cell-971449a9e8d421fe",
     "locked": true,
     "schema_version": 1,
     "solution": false
    }
   },
   "source": [
    "We will explore the same time series about **daily new COVID-19 cases globally** as we had in **Assignment 2 Part 1**. In order not to reinvent the wheel, let's import the `load_data` function you wrote previously. "
   ]
  },
  {
   "cell_type": "code",
   "execution_count": 3,
   "metadata": {
    "deletable": false,
    "nbgrader": {
     "checksum": "d2328da96b461f20cddfb116f305dad3",
     "grade": false,
     "grade_id": "cell-dff468a58e88a186",
     "locked": false,
     "schema_version": 1,
     "solution": true
    }
   },
   "outputs": [],
   "source": [
    "# Copy and paste the function you wrote in Assignment 2 Part 1 here and import any libraries necessary\n",
    "# We have tried a more elegant solution by using\n",
    "# from ipynb.fs.defs.assignment2_part1 import load_data\n",
    "# but it doesn't work with the autograder...\n",
    "\n",
    "def load_data():\n",
    "    daily_new_cases = None\n",
    "    \n",
    "    df = pd.read_csv('assets/time_series_covid19_confirmed_global.csv').drop(columns=['Province/State', 'Lat','Long'])\n",
    "\n",
    "    df_melt = df.melt(id_vars=['Country/Region'], \n",
    "            var_name=\"Date\", \n",
    "            value_name=\"Value\")\n",
    "\n",
    "    df_melt['Date'] = pd.to_datetime(df_melt['Date'])\n",
    "\n",
    "    df_bydate = df_melt.groupby(by = 'Date').sum().dropna().sort_values(by=['Date'])\n",
    "    \n",
    "    daily_new_cases = df_bydate.Value.diff().dropna()\n",
    "\n",
    "    # YOUR CODE HERE\n",
    "    #raise NotImplementedError()\n",
    "    \n",
    "    return daily_new_cases"
   ]
  },
  {
   "cell_type": "code",
   "execution_count": 4,
   "metadata": {
    "deletable": false,
    "editable": false,
    "nbgrader": {
     "checksum": "b6e60fa3fe5643770456d6345dce3c92",
     "grade": true,
     "grade_id": "cell-da753c6330d318a8",
     "locked": true,
     "points": 0,
     "schema_version": 1,
     "solution": false
    }
   },
   "outputs": [],
   "source": [
    "# Sanity checks to make sure you have imported the correct function - no points awarded\n",
    "\n",
    "stu_ans = load_data()\n",
    "\n",
    "assert isinstance(stu_ans, pd.Series), \"Q0: Your function should return a pd.Series. \"\n",
    "assert len(stu_ans) == 212, \"Q0: The length of the series returned is incorrect. \"\n",
    "assert isinstance(stu_ans.index, pd.DatetimeIndex), \"Q0: The index of your series must be a pd.DatetimeIndex. \"\n",
    "assert ((\"2020-01-23\" <= stu_ans.index) & (stu_ans.index <= \"2020-08-21\")).all(), \"Q0: The index of your series contains an incorrect time range. \"\n",
    "assert not stu_ans.isna().any(), \"Q0: Your series contains NaN values. \"\n",
    "assert np.issubdtype(stu_ans.dtype, np.floating), \"Q0: Your series should have a float dtype. \"\n",
    "\n",
    "del stu_ans"
   ]
  },
  {
   "cell_type": "code",
   "execution_count": 5,
   "metadata": {},
   "outputs": [
    {
     "data": {
      "text/plain": [
       "66.46803743153546"
      ]
     },
     "execution_count": 5,
     "metadata": {},
     "output_type": "execute_result"
    }
   ],
   "source": [
    "stu_ans = load_data()\n",
    "len(stu_ans)\n",
    "np.sqrt(4418)"
   ]
  },
  {
   "cell_type": "markdown",
   "metadata": {
    "deletable": false,
    "editable": false,
    "nbgrader": {
     "checksum": "4704928f282c25524375bbd2d6936932",
     "grade": false,
     "grade_id": "cell-d63bebc6fef0f0d1",
     "locked": true,
     "schema_version": 1,
     "solution": false
    }
   },
   "source": [
    "## Question 1: Stationarity Tests (20 pts)\n",
    "\n",
    "Let's first try to understand whether our time series is stationary or not. Recall that a stationary time series has stable statistics, such as constant means and variances, over time. A non-stationary time series would not be very interesting to study, as it is essentially equivalent to a white noise, carrying little information. "
   ]
  },
  {
   "cell_type": "markdown",
   "metadata": {
    "deletable": false,
    "editable": false,
    "nbgrader": {
     "checksum": "cd478115e5355fdc662cf47b72560bc0",
     "grade": false,
     "grade_id": "cell-580c8a3fe199c750",
     "locked": true,
     "schema_version": 1,
     "solution": false
    }
   },
   "source": [
    "### Question 1a (15 pts)\n",
    "\n",
    "One way of determining stationarity is to calculate some summary statistics. A rolling mean and a rolling standard deviation are the mean and the standard deviation over a rolling window of values. They both have the same length as the original time series. For a rolling window of size $k$, the $j$-th component of the rolling mean $\\mu$ and the rolling standard deviation $\\sigma$ is precisely defined as:\n",
    "\n",
    "\\begin{align}\n",
    "\\mu_{j} &= \\frac{1}{\\min(k, j)} \\sum_{i = \\max(1,j - k + 1)}^{j} x_{i} = \\begin{cases}\n",
    "\\frac{1}{j} \\sum_{i = 1}^{j} x_{i} & \\text{if } j \\leq k \\\\\n",
    "\\frac{1}{k} \\sum_{i = j - k + 1}^{j} x_{i} & \\text{if } j > k\n",
    "\\end{cases} \n",
    "\\\\\n",
    "\\sigma_{j} &= \\sqrt{\\frac{1}{\\min(k, j)} \\sum_{i = \\max(1,j - k + 1)}^{j} \\left(x_{i} - \\mu_{j}\\right)^{2}} = \\begin{cases}\n",
    "\\sqrt{\\frac{1}{j} \\sum_{i = 1}^{j} \\left(x_{i} - \\mu_{j}\\right)^{2}} & \\text{if } j \\leq k \\\\\n",
    "\\sqrt{\\frac{1}{k} \\sum_{i = j - k + 1}^{j} \\left(x_{i} - \\mu_{j}\\right)^{2}} & \\text{if } j > k\n",
    "\\end{cases}\n",
    "\\end{align}\n",
    "\n",
    "where $j \\geq 1$.\n",
    "\n",
    "Complete the function below that takes as input a time series and that calculates the rolling mean and the rolling standard deviation of the input time series. The size of the rolling window is governed by the argument `wd_size`. \n",
    "\n",
    "**This function should return a `tuple` of length 2, whose first component is the rolling mean as a `np.ndarray` and whose last component is the rolling standard deviation as a `np.ndarray`.**"
   ]
  },
  {
   "cell_type": "code",
   "execution_count": 41,
   "metadata": {
    "deletable": false,
    "nbgrader": {
     "checksum": "f7fbec1a416995ead5486e4a840bbd86",
     "grade": false,
     "grade_id": "cell-993d3b939f534f62",
     "locked": false,
     "schema_version": 1,
     "solution": true
    }
   },
   "outputs": [],
   "source": [
    "def calc_rolling_stats(ser, wd_size=7):\n",
    "    \"\"\"\n",
    "    Takes in a series and returns the rolling mean and the rolling std for a window of size wd_size\n",
    "    \"\"\"\n",
    "    \n",
    "    ## Calculate rolling mean\n",
    "    \n",
    "    #rolling_mean, rolling_std = None, None\n",
    "    \n",
    "    for i in range(len(ser)):\n",
    "        if i < wd_size:\n",
    "            z = ser[:wd_size-1]\n",
    "            less_wind = z.expanding().mean()\n",
    "\n",
    "    gt_wind = ser.rolling(wd_size).mean()\n",
    "\n",
    "    gt_wind = gt_wind.dropna()\n",
    "    rolling_mean = np.append(less_wind,gt_wind)\n",
    "    \n",
    "    rolling_std = np.array(ser.rolling(wd_size,min_periods=1).apply(np.std))\n",
    "\n",
    "    \n",
    "\n",
    "#     for i in range(len(ser)):\n",
    "\n",
    "#         if i < wd_size:\n",
    "#             if i == 0:\n",
    "#                 first = 0\n",
    "\n",
    "#             else:\n",
    "#                 z = ser[:wd_size-1]\n",
    "\n",
    "#                 less_wind = z.expanding().std()\n",
    "#     #             less_wind[0]=0\n",
    "        \n",
    "#     less_wind = less_wind.dropna()\n",
    "#     first_step = np.append(first,less_wind)\n",
    "            \n",
    "#     gt_wind = ser.rolling(wd_size).std()\n",
    "\n",
    "#     gt_wind = gt_wind.dropna()\n",
    "#     rolling_std = np.append(first_step,gt_wind)\n",
    "    \n",
    "    \n",
    "    \n",
    "    \n",
    "    # YOUR CODE HERE\n",
    "    #raise NotImplementedError()\n",
    "    \n",
    "    return rolling_mean, rolling_std\n",
    "#     return gt_wind"
   ]
  },
  {
   "cell_type": "code",
   "execution_count": 42,
   "metadata": {},
   "outputs": [
    {
     "data": {
      "text/plain": [
       "(array([9.90000000e+01, 1.93000000e+02, 2.93000000e+02, 3.90750000e+02,\n",
       "        4.74400000e+02, 8.37166667e+02, 8.01571429e+02, 1.08285714e+03,\n",
       "        1.28371429e+03, 1.51485714e+03, 2.09557143e+03, 2.42285714e+03,\n",
       "        2.61714286e+03, 3.06814286e+03, 3.22400000e+03, 3.49542857e+03,\n",
       "        3.58442857e+03, 3.33885714e+03, 3.26871429e+03, 2.98742857e+03,\n",
       "        2.51214286e+03, 4.22557143e+03, 4.64471429e+03, 4.56014286e+03,\n",
       "        4.43928571e+03, 4.35728571e+03, 4.33442857e+03, 4.34614286e+03,\n",
       "        2.26142857e+03, 1.41885714e+03, 1.36442857e+03, 1.10671429e+03,\n",
       "        8.96571429e+02, 7.49571429e+02, 8.17714286e+02, 9.32571429e+02,\n",
       "        1.03942857e+03, 1.05857143e+03, 1.34485714e+03, 1.54628571e+03,\n",
       "        1.79271429e+03, 1.98157143e+03, 2.18542857e+03, 2.55200000e+03,\n",
       "        2.85814286e+03, 3.08242857e+03, 3.35757143e+03, 3.70700000e+03,\n",
       "        4.47328571e+03, 4.89600000e+03, 6.39085714e+03, 7.40085714e+03,\n",
       "        8.42871429e+03, 9.96685714e+03, 1.15130000e+04, 1.32177143e+04,\n",
       "        1.63847143e+04, 1.85565714e+04, 2.15852857e+04, 2.47668571e+04,\n",
       "        2.86954286e+04, 3.23125714e+04, 3.67730000e+04, 4.17698571e+04,\n",
       "        4.67398571e+04, 5.17894286e+04, 5.55261429e+04, 5.87368571e+04,\n",
       "        6.37715714e+04, 6.73994286e+04, 7.00447143e+04, 7.27240000e+04,\n",
       "        7.45535714e+04, 7.62872857e+04, 7.74351429e+04, 7.75005714e+04,\n",
       "        7.85814286e+04, 7.93315714e+04, 7.99658571e+04, 7.94647143e+04,\n",
       "        8.30507143e+04, 8.26215714e+04, 8.16172857e+04, 8.11971429e+04,\n",
       "        8.26287143e+04, 8.26464286e+04, 8.22182857e+04, 7.98881429e+04,\n",
       "        8.04138571e+04, 8.11914286e+04, 8.06124286e+04, 7.95144286e+04,\n",
       "        7.94038571e+04, 8.09724286e+04, 7.98922857e+04, 7.92302857e+04,\n",
       "        7.92338571e+04, 7.92711429e+04, 7.85115714e+04, 7.85272857e+04,\n",
       "        7.80612857e+04, 7.87291429e+04, 7.97837143e+04, 8.04531429e+04,\n",
       "        8.23068571e+04, 8.30785714e+04, 8.37161429e+04, 8.43118571e+04,\n",
       "        8.41158571e+04, 8.41358571e+04, 8.46477143e+04, 8.38981429e+04,\n",
       "        8.50414286e+04, 8.57341429e+04, 8.71021429e+04, 8.74271429e+04,\n",
       "        8.91485714e+04, 9.09797143e+04, 9.35872857e+04, 9.49081429e+04,\n",
       "        9.64128571e+04, 9.78224286e+04, 1.00223143e+05, 1.00033429e+05,\n",
       "        9.94804286e+04, 9.94191429e+04, 1.01273429e+05, 1.03312143e+05,\n",
       "        1.07960714e+05, 1.09708143e+05, 1.10886143e+05, 1.14931143e+05,\n",
       "        1.17320143e+05, 1.18411857e+05, 1.19797143e+05, 1.19529143e+05,\n",
       "        1.20205857e+05, 1.21196571e+05, 1.21701429e+05, 1.23797571e+05,\n",
       "        1.25391714e+05, 1.25142286e+05, 1.25142857e+05, 1.28168429e+05,\n",
       "        1.30667571e+05, 1.33119143e+05, 1.34261714e+05, 1.34531714e+05,\n",
       "        1.41927000e+05, 1.45023714e+05, 1.44329429e+05, 1.46848429e+05,\n",
       "        1.50256000e+05, 1.54433286e+05, 1.59858571e+05, 1.61362286e+05,\n",
       "        1.64296286e+05, 1.69026571e+05, 1.72009429e+05, 1.73214286e+05,\n",
       "        1.79845714e+05, 1.84097571e+05, 1.85833571e+05, 1.88049143e+05,\n",
       "        1.91028429e+05, 1.92341571e+05, 1.97630857e+05, 1.96794714e+05,\n",
       "        1.99720714e+05, 2.03865000e+05, 2.07071286e+05, 2.08510429e+05,\n",
       "        2.12148286e+05, 2.13690429e+05, 2.16450000e+05, 2.19942286e+05,\n",
       "        2.21275143e+05, 2.24348000e+05, 2.27489714e+05, 2.29485429e+05,\n",
       "        2.31197429e+05, 2.38248857e+05, 2.42546429e+05, 2.48154714e+05,\n",
       "        2.50713286e+05, 2.50518000e+05, 2.53328857e+05, 2.56002286e+05,\n",
       "        2.57240857e+05, 2.56940000e+05, 2.58216429e+05, 2.57526000e+05,\n",
       "        2.59786857e+05, 2.56362714e+05, 2.57254714e+05, 2.54685429e+05,\n",
       "        2.55334857e+05, 2.54018714e+05, 2.55269857e+05, 2.54565714e+05,\n",
       "        2.58202286e+05, 2.57628429e+05, 2.58455286e+05, 2.58567857e+05,\n",
       "        2.61933857e+05, 2.60313286e+05, 2.58643286e+05, 2.56033429e+05,\n",
       "        2.56109429e+05, 2.55737143e+05, 2.53051286e+05, 2.48237286e+05]),\n",
       " array([    0.        ,    94.        ,   160.90576953,   219.27878944,\n",
       "          257.79030238,   844.61715522,   786.80944455,   835.79447723,\n",
       "          787.97638005,   758.90248359,  1278.40769901,  1197.86016696,\n",
       "         1322.8758098 ,  1067.76380863,   986.96982151,   764.87643393,\n",
       "          621.3965509 ,   419.51721523,   488.89984785,   544.20974348,\n",
       "          965.09976221,  4556.65769921,  4613.77699982,  4653.28226489,\n",
       "         4702.18373932,  4738.25313544,  4749.73884567,  4740.15676138,\n",
       "         1867.31601558,   747.21586641,   705.2567632 ,   688.08174645,\n",
       "          590.14522599,   433.831059  ,   426.6814517 ,   449.4545447 ,\n",
       "          453.47825815,   485.24952554,   581.97384049,   517.26249603,\n",
       "          538.73176848,   442.86239628,   440.09182715,   638.14955703,\n",
       "          753.19574928,   810.21070578,   707.60902383,   829.76106716,\n",
       "         1433.11047469,  1305.2499487 ,  3501.72342991,  3691.86884261,\n",
       "         3589.3013134 ,  3625.84687363,  3493.62067611,  4063.91316394,\n",
       "         5421.64383913,  7007.52287305,  7682.76309511,  7304.22154703,\n",
       "         8160.73972237,  7221.55137383,  7621.0645863 , 10927.38610005,\n",
       "        12113.80150818, 12409.42902862, 10024.44603996,  8749.67737248,\n",
       "         7192.25418384,  6059.40982174,  7408.18780066,  8228.30926914,\n",
       "         8321.32964748,  5945.49634392,  4064.49678588,  4051.13221765,\n",
       "         4543.12506847,  5316.57198517,  5960.71641017,  6044.72711695,\n",
       "         7622.32294391,  8252.78131225,  9258.31503822,  9217.27831581,\n",
       "        10625.9049593 , 10634.26948068, 10911.50833772,  9144.0444854 ,\n",
       "         8633.15177389,  7855.70142103,  8008.22096986,  6005.63604   ,\n",
       "         5858.89393337,  5657.27003465,  6325.89087378,  7162.70714414,\n",
       "         7160.74304661,  7148.56923604,  6307.47261717,  6328.56564011,\n",
       "         5948.01591684,  5587.35402311,  4096.14807609,  3670.45187676,\n",
       "         4632.6801693 ,  5211.42604167,  5887.99285298,  5862.33984073,\n",
       "         6100.94389485,  6074.8104598 ,  5850.91298649,  5435.62374995,\n",
       "         7017.7445269 ,  7816.69264054,  8522.63274931,  8137.10797043,\n",
       "         6743.89592483,  6722.09983592,  7323.2467178 ,  8564.21689237,\n",
       "         9556.20886318, 10022.43032769,  6508.0913908 ,  6862.84186985,\n",
       "         7277.34611865,  7248.95500703,  9940.91763308, 12112.05689065,\n",
       "        17167.88697968, 16398.19689939, 14954.57819464, 13162.28108138,\n",
       "        12188.98554819, 12652.10867155, 13387.84356292, 13038.41339415,\n",
       "        12511.82602213, 10625.69490645, 10680.43127617, 11422.05976993,\n",
       "        12481.23274262, 12386.38664842, 12386.8854546 , 11428.70102427,\n",
       "         6165.38463305,  6572.68539224,  7282.63372128,  7453.51784086,\n",
       "        17426.52195444, 18006.85244737, 18525.02454101, 16026.64291429,\n",
       "        17037.90835587, 18054.4495245 , 18601.35353644, 20562.7042254 ,\n",
       "        21274.33572382, 15788.48204825, 10640.30637122, 10293.84398164,\n",
       "        18535.56877014, 20885.12750299, 21901.52594721, 21798.62064069,\n",
       "        19276.62820885, 17192.70016903, 16355.6062073 , 15434.20148996,\n",
       "        18805.96989343, 22104.19286018, 22022.06445956, 20661.75395581,\n",
       "        14380.18274983, 14732.14491082, 15884.11135155, 20192.5394194 ,\n",
       "        21262.13149125, 21842.1984961 , 18362.00275969, 14920.81811102,\n",
       "        14606.5158636 , 22596.01974071, 27301.50907319, 30445.31841428,\n",
       "        30205.36805042, 30441.41157793, 26985.01923782, 25801.36008438,\n",
       "        27120.96707836, 26846.54762588, 28148.81352921, 28264.90251177,\n",
       "        25089.95404214, 30465.1809294 , 30425.63653854, 28309.63913509,\n",
       "        28942.88309476, 27505.85546863, 27526.16740189, 28240.23691581,\n",
       "        22317.44645988, 22351.94919501, 22936.7773905 , 23069.29283348,\n",
       "        27393.87664335, 27823.86926833, 30192.65300279, 33357.48162752,\n",
       "        33354.6530995 , 33133.7543922 , 31283.40098297, 24956.79386296]))"
      ]
     },
     "execution_count": 42,
     "metadata": {},
     "output_type": "execute_result"
    }
   ],
   "source": [
    "# stu_ser, wd_size = load_data(), 2\n",
    "# #stu_ans = calc_rolling_stats(stu_ser, wd_size)\n",
    "\n",
    "# ser = stu_ser.rolling(wd_size,min_periods=1).apply(np.std)\n",
    "# ser\n",
    "\n",
    "stu_ser, wd_size = load_data(), 7\n",
    "stu_ans = calc_rolling_stats(stu_ser, wd_size)\n",
    "stu_ans\n"
   ]
  },
  {
   "cell_type": "code",
   "execution_count": 16,
   "metadata": {},
   "outputs": [
    {
     "data": {
      "text/plain": [
       "Date\n",
       "2020-01-23             NaN\n",
       "2020-01-24      132.936075\n",
       "2020-01-25      145.663997\n",
       "2020-01-26      135.057395\n",
       "2020-01-27       88.388348\n",
       "                  ...     \n",
       "2020-08-17     1990.505589\n",
       "2020-08-18    32119.618429\n",
       "2020-08-19    13611.805538\n",
       "2020-08-20     5065.005874\n",
       "2020-08-21     2522.956995\n",
       "Name: Value, Length: 212, dtype: float64"
      ]
     },
     "execution_count": 16,
     "metadata": {},
     "output_type": "execute_result"
    }
   ],
   "source": [
    "ser, wd_size = load_data(), 2\n",
    "# stu_ans = calc_rolling_stats(stu_ser, wd_size)\n",
    "\n",
    "z = ser[:wd_size-1]\n",
    "ser = ser.rolling(wd_size).std()\n",
    "#ser = ser.expanding().std()\n",
    "\n",
    "z.expanding().std()\n",
    "ser"
   ]
  },
  {
   "cell_type": "code",
   "execution_count": 53,
   "metadata": {},
   "outputs": [
    {
     "data": {
      "text/plain": [
       "Date\n",
       "2020-01-23             NaN\n",
       "2020-01-24             NaN\n",
       "2020-01-25      197.068516\n",
       "2020-01-26      198.547224\n",
       "2020-01-27      159.144588\n",
       "                  ...     \n",
       "2020-08-17    21435.067304\n",
       "2020-08-18    25451.885595\n",
       "2020-08-19    33208.002429\n",
       "2020-08-20     9729.393935\n",
       "2020-08-21     3581.508481\n",
       "Name: Value, Length: 212, dtype: float64"
      ]
     },
     "execution_count": 53,
     "metadata": {},
     "output_type": "execute_result"
    }
   ],
   "source": [
    "ser = load_data()\n",
    "wd_size = 1\n",
    "\n",
    "# for i in range(len(df)):\n",
    "#     if i < wd_size:\n",
    "#         z = df[:wd_size-1]\n",
    "#         less_wind = z.expanding().mean()\n",
    "    \n",
    "# test = df.rolling(wd_size).mean()\n",
    "\n",
    "# test = test.dropna()\n",
    "# final_ser = np.append(less_wind,test)\n",
    "\n",
    "\n",
    "final_ser = ser.rolling(3).std()\n",
    "\n",
    "\n",
    "# for i in range(len(ser)):\n",
    "    \n",
    "#     if i < wd_size:\n",
    "#         if i == 0:\n",
    "#             first = 0\n",
    "    \n",
    "#         else:\n",
    "#             z = ser[:wd_size-1]\n",
    "\n",
    "#             less_wind = z.expanding().std()\n",
    "# #             less_wind[0]=0\n",
    "\n",
    "# less_wind = less_wind.dropna()\n",
    "# first_step = np.append(first,less_wind)\n",
    "\n",
    "# gt_wind = ser.rolling(wd_size).std()\n",
    "\n",
    "# gt_wind = gt_wind.dropna()\n",
    "# rolling_std = np.append(first_step,gt_wind)\n",
    "\n",
    "final_ser"
   ]
  },
  {
   "cell_type": "code",
   "execution_count": 26,
   "metadata": {},
   "outputs": [
    {
     "data": {
      "text/plain": [
       "array([           nan,   132.93607486,   197.068516  ,   253.20133623,\n",
       "         288.21832003,   925.23173674,   849.85133154,   902.76121401,\n",
       "         851.11176592,   819.70836858,  1380.83813403,  1293.83685584,\n",
       "        1428.86918326,  1153.31672848,  1066.04924839,   826.16097244,\n",
       "         671.18498621,   453.13038174,   528.07219023,   587.81370551,\n",
       "        1042.4268845 ,  4921.75283333,  4983.44872935,  5026.11929254,\n",
       "        5078.93892181,  5117.89832237,  5130.30430732,  5119.95447338,\n",
       "        2016.93181649,   807.08537933,   761.76436802,   743.21322967,\n",
       "         637.42969734,   468.59110005,   460.86864155,   485.46639332,\n",
       "         489.81250057,   524.12939151,   628.60359225,   558.70735163,\n",
       "         581.89681625,   478.34605923,   475.35350254,   689.28030099,\n",
       "         813.54439104,   875.12758254,   764.30509989,   896.24438631,\n",
       "        1547.93622977,  1409.83107735,  3782.29359113,  3987.67411025,\n",
       "        3876.88851677,  3916.36223336,  3773.54161675,  4389.52790606,\n",
       "        5856.04464675,  7568.98977973,  8298.33257778,  7889.46097501,\n",
       "        8814.60634132,  7800.16698234,  8231.69057161, 11802.92597097,\n",
       "       13084.40107442, 13403.71529163, 10827.63923837,  9450.73170763,\n",
       "        7768.52240041,  6544.91064001,  8001.75736353,  8887.58979326,\n",
       "        8988.06328522,  6421.87002137,  4390.1582898 ,  4375.72290626,\n",
       "        4907.13592153,  5742.55407338,  6438.30957184,  6529.05150626,\n",
       "        8233.04975317,  8914.02262089, 10000.12317781,  9955.79845163,\n",
       "       11477.28912119, 11486.32383688, 11785.77602754,  9876.6968741 ,\n",
       "        9324.8696761 ,  8485.12731897,  8649.8672602 ,  6486.82831737,\n",
       "        6328.32872694,  6110.5500259 ,  6832.74307323,  7736.60794996,\n",
       "        7734.48648217,  7721.3372639 ,  6812.84908236,  6835.63215107,\n",
       "        6424.59147117,  6035.03210233,  4424.34559057,  3964.54114321,\n",
       "        5003.86648598,  5628.98347416,  6359.75915237,  6332.05073228,\n",
       "        6589.77256635,  6561.54523032,  6319.70831907,  5871.14467626,\n",
       "        7580.03042776,  8442.99302042,  9205.495486  ,  8789.08113188,\n",
       "        7284.24013098,  7260.69766424,  7910.01050809,  9250.41149406,\n",
       "       10321.88528368, 10825.46202027,  7029.54212422,  7412.71643545,\n",
       "        7860.43219459,  7829.76628916, 10737.41824737, 13082.51667212,\n",
       "       18543.43730914, 17712.07700439, 16152.79058892, 14216.888448  ,\n",
       "       13165.60911907, 13665.83926473, 14460.52377369, 14083.09605435,\n",
       "       13514.31668551, 11477.06223818, 11536.18427467, 12337.23460177,\n",
       "       13481.2721669 , 13378.82667644, 13379.36544869, 12344.40797632,\n",
       "        6659.37651879,  7099.31161988,  7866.14345819,  8050.71940293,\n",
       "       18822.79501031, 19449.62358431, 20009.31341365, 17310.75283224,\n",
       "       18403.0443496 , 19501.03430346, 20091.75815152, 22210.25902381,\n",
       "       22978.90889283, 17053.50969602, 11492.84442392, 11118.62227248,\n",
       "       20020.7024828 , 22558.51596668, 23656.35176055, 23545.20132588,\n",
       "       20821.13816019, 18570.23861682, 17666.07379913, 16670.84295723,\n",
       "       20312.7690769 , 23875.25704574, 23786.54823434, 22317.24496032,\n",
       "       15532.37259956, 15912.53518307, 17156.80114901, 21810.43533659,\n",
       "       22965.72681504, 23592.27078939, 19833.22976484, 16116.32553093,\n",
       "       15776.84030319, 24406.49079261, 29489.0001631 , 32884.7023539 ,\n",
       "       32625.52633912, 32880.48248835, 29147.15207031, 27868.65406219,\n",
       "       29293.99252081, 28997.58563513, 30404.1935751 , 30529.58400743,\n",
       "       27100.24771368, 32906.15632226, 32863.44349838, 30577.90508334,\n",
       "       31261.88673357, 29709.71949668, 29731.6588921 , 30502.94211883,\n",
       "       24105.59725952, 24142.86447281, 24774.55112082, 24917.68415823,\n",
       "       29588.76854162, 30053.21365908, 32611.79251802, 36030.19812998,\n",
       "       36027.14297053, 35788.54509676, 33789.93498916, 26956.41828158])"
      ]
     },
     "execution_count": 26,
     "metadata": {},
     "output_type": "execute_result"
    }
   ],
   "source": [
    "df = load_data()\n",
    "wd_size = 7\n",
    "\n",
    "for i in range(len(df)):\n",
    "    if i < wd_size:\n",
    "        z = df[:wd_size-1]\n",
    "        less_wind = z.expanding().std()\n",
    "    else:\n",
    "        test = df.rolling(7).std()\n",
    "\n",
    "test = test.dropna()\n",
    "final_std = np.append(less_wind,test)\n",
    "\n",
    "final_std"
   ]
  },
  {
   "cell_type": "code",
   "execution_count": 27,
   "metadata": {},
   "outputs": [
    {
     "data": {
      "text/plain": [
       "Date\n",
       "2020-01-23              NaN\n",
       "2020-01-24              NaN\n",
       "2020-01-25              NaN\n",
       "2020-01-26              NaN\n",
       "2020-01-27              NaN\n",
       "                  ...      \n",
       "2020-08-17    256033.428571\n",
       "2020-08-18    256109.428571\n",
       "2020-08-19    255737.142857\n",
       "2020-08-20    253051.285714\n",
       "2020-08-21    248237.285714\n",
       "Name: Value, Length: 212, dtype: float64"
      ]
     },
     "execution_count": 27,
     "metadata": {},
     "output_type": "execute_result"
    }
   ],
   "source": [
    "df = load_data()\n",
    "wd_size = 7\n",
    "\n",
    "test = df.rolling(wd_size).mean()\n",
    "test"
   ]
  },
  {
   "cell_type": "code",
   "execution_count": 43,
   "metadata": {
    "deletable": false,
    "editable": false,
    "nbgrader": {
     "checksum": "f5d6213373e157d2a28978449470c715",
     "grade": true,
     "grade_id": "cell-a7b7858dc829b35f",
     "locked": true,
     "points": 15,
     "schema_version": 1,
     "solution": false
    }
   },
   "outputs": [],
   "source": [
    "# Autograder tests\n",
    "\n",
    "stu_ser, wd_size = load_data(), 7\n",
    "stu_ans = calc_rolling_stats(stu_ser, wd_size)\n",
    "\n",
    "assert isinstance(stu_ans, tuple), \"Q1a: Your function should return a tuple. \"\n",
    "assert len(stu_ans) == 2, \"Q1a: The length of the tuple returned is incorrect. \"\n",
    "assert isinstance(stu_ans[0], np.ndarray), \"Q1a: Please return the rolling mean as np.ndarray. \"\n",
    "assert isinstance(stu_ans[1], np.ndarray), \"Q1a: Please return the rolling std as np.ndarray. \"\n",
    "assert len(stu_ans[0]) == len(stu_ser), \"Q1a: Your rolling mean should be of the same length as your data. \"\n",
    "assert len(stu_ans[1]) == len(stu_ser), \"Q1a: Your rolling std should be of the same length as your data. \"\n",
    "assert np.issubdtype(stu_ans[0].dtype, np.floating), \"Q1a: Your rolling mean should have a float dtype. \"\n",
    "assert np.issubdtype(stu_ans[1].dtype, np.floating), \"Q1a: Your rolling std should have a float dtype. \"\n",
    "\n",
    "\n",
    "# Some hidden tests\n",
    "\n",
    "\n",
    "del stu_ans, stu_ser, wd_size"
   ]
  },
  {
   "cell_type": "markdown",
   "metadata": {
    "deletable": false,
    "editable": false,
    "nbgrader": {
     "checksum": "427730ca856df179b969bf99fccf02c4",
     "grade": false,
     "grade_id": "cell-ab6d3c0e1ad2fb0c",
     "locked": true,
     "schema_version": 1,
     "solution": false
    }
   },
   "source": [
    "Let's plot and see the rolling statistics together with the original time series. Is our time series stationary? Why or why not? "
   ]
  },
  {
   "cell_type": "code",
   "execution_count": 9,
   "metadata": {},
   "outputs": [
    {
     "data": {
      "image/png": "[encoded data removed]",
      "text/plain": [
       "<Figure size 720x432 with 1 Axes>"
      ]
     },
     "metadata": {
      "needs_background": "light"
     },
     "output_type": "display_data"
    }
   ],
   "source": [
    "# Let's plot and see the rolling statistics\n",
    "\n",
    "ser, wd_size = load_data(), 7\n",
    "rolling_mean, rolling_std = calc_rolling_stats(ser, wd_size)\n",
    "\n",
    "fig, ax = plt.subplots(figsize=(10, 6))\n",
    "ax.plot(ser, label=\"Original\")\n",
    "ax.plot(pd.Series(rolling_mean, index=ser.index), label=\"Rolling Mean\")\n",
    "ax.plot(pd.Series(rolling_std, index=ser.index), label=\"Rolling Std\")\n",
    "\n",
    "ax.set_xlabel(\"Day\")\n",
    "ax.set_ylabel(\"# Cases\")\n",
    "ax.set_title(\"Daily New COVID-19 Cases Worldwide\\n\" + f\"Rolling Stats with Window Size = {wd_size} Days\")\n",
    "ax.legend()\n",
    "\n",
    "del fig, ax, ser, wd_size, rolling_mean, rolling_std"
   ]
  },
  {
   "cell_type": "markdown",
   "metadata": {
    "deletable": false,
    "editable": false,
    "nbgrader": {
     "checksum": "518c57d9da06d49a40e3856fc5cb58b1",
     "grade": false,
     "grade_id": "cell-902e515e7633ecbd",
     "locked": true,
     "schema_version": 1,
     "solution": false
    }
   },
   "source": [
    "### Question 1b (5 pts)\n",
    "\n",
    "Now let's see whether the *log return* of our time series is stationary. Complete the function below that computes the log return of a given time series and that returns the result as a `pd.Series` like the following:\n",
    "\n",
    "```\n",
    "2020-01-24    1.064362\n",
    "2020-01-25    0.541027\n",
    "2020-01-26    0.327449\n",
    "2020-01-27    0.167841\n",
    "2020-01-28    1.186893\n",
    "                ...   \n",
    "2020-08-17   -0.013336\n",
    "2020-08-18    0.196096\n",
    "2020-08-19    0.072750\n",
    "2020-08-20   -0.026456\n",
    "2020-08-21    0.013266\n",
    "Length: 211, dtype: float64\n",
    "```\n",
    "\n",
    "where\n",
    "* the index of the series is a `pd.DatetimeIndex`; \n",
    "* the values of the series are the log returns; and\n",
    "* the series doesn't contain any `NaN` values. \n",
    "\n",
    "**This function should return a `pd.Series`, whose index is a `pd.DatetimeIndex`.**"
   ]
  },
  {
   "cell_type": "code",
   "execution_count": 29,
   "metadata": {
    "deletable": false,
    "nbgrader": {
     "checksum": "632adc5a67ebb06c286f9cbe18581c0c",
     "grade": false,
     "grade_id": "cell-7b3c4bc030367baf",
     "locked": false,
     "schema_version": 1,
     "solution": true
    }
   },
   "outputs": [],
   "source": [
    "def calc_log_ret(ser):\n",
    "    \"\"\"\n",
    "    Takes in a series and computes the log return\n",
    "    \"\"\"\n",
    "    ser_c = ser.copy()\n",
    "    ser_c['log_ret'] = np.log(ser_c) - np.log(ser_c.shift(1))\n",
    "    log_ret = ser_c['log_ret'][1:]\n",
    "    \n",
    "#     log_ret = None\n",
    "    \n",
    "    # YOUR CODE HERE\n",
    "#     raise NotImplementedError()\n",
    "    \n",
    "    return log_ret"
   ]
  },
  {
   "cell_type": "code",
   "execution_count": 84,
   "metadata": {},
   "outputs": [
    {
     "data": {
      "text/plain": [
       "Date\n",
       "2020-01-23 00:00:00                                                 99.0\n",
       "2020-01-24 00:00:00                                                287.0\n",
       "2020-01-25 00:00:00                                                493.0\n",
       "2020-01-26 00:00:00                                                684.0\n",
       "2020-01-27 00:00:00                                                809.0\n",
       "                                             ...                        \n",
       "2020-08-18 00:00:00                                             255096.0\n",
       "2020-08-19 00:00:00                                             274346.0\n",
       "2020-08-20 00:00:00                                             267183.0\n",
       "2020-08-21 00:00:00                                             270751.0\n",
       "log_ret                Date\n",
       "2020-01-23         NaN\n",
       "2020-01-24    1.06...\n",
       "Name: Value, Length: 213, dtype: object"
      ]
     },
     "execution_count": 84,
     "metadata": {},
     "output_type": "execute_result"
    }
   ],
   "source": [
    "stu_ser = load_data()\n",
    "# stu_ser['pct_change'] = stu_ser.pct_change()\n",
    "\n",
    "stu_ser['log_ret'] = np.log(stu_ser) - np.log(stu_ser.shift(1))\n",
    "stu_ser = stu_ser.dropna()\n",
    "stu_ser['log_ret'][1:]\n",
    "log_ret = stu_ser['log_ret'][1:]\n",
    "log_ret\n",
    "\n",
    "# stu_ser"
   ]
  },
  {
   "cell_type": "code",
   "execution_count": 31,
   "metadata": {},
   "outputs": [],
   "source": [
    "stu_ser = load_data()\n",
    "stu_ans = calc_log_ret(stu_ser)\n",
    "stu_ser\n",
    "\n",
    "assert len(stu_ans) == len(stu_ser) - 1, \"Q1b: The length of the series returned should be one less than that of your data. \"\n"
   ]
  },
  {
   "cell_type": "code",
   "execution_count": 32,
   "metadata": {
    "deletable": false,
    "editable": false,
    "nbgrader": {
     "checksum": "3b89247fcf820d9f9ff866b5d8a132b3",
     "grade": true,
     "grade_id": "cell-5599b6afd7087898",
     "locked": true,
     "points": 5,
     "schema_version": 1,
     "solution": false
    }
   },
   "outputs": [],
   "source": [
    "# Autograder tests\n",
    "\n",
    "stu_ser = load_data()\n",
    "stu_ans = calc_log_ret(stu_ser)\n",
    "\n",
    "assert isinstance(stu_ans, pd.Series), \"Q1b: Your function should return a pd.Series. \"\n",
    "assert len(stu_ans) == len(stu_ser) - 1, \"Q1b: The length of the series returned should be one less than that of your data. \"\n",
    "assert isinstance(stu_ans.index, pd.DatetimeIndex), \"Q1b: The index of your series must be a pd.DatetimeIndex. \"\n",
    "assert ((\"2020-01-24\" <= stu_ans.index) & (stu_ans.index <= \"2020-08-21\")).all(), \"Q1b: The index of your series contains an incorrect time range. \"\n",
    "assert not stu_ans.isna().any(), \"Q1b: Your series contains NaN values. \"\n",
    "assert np.issubdtype(stu_ans.dtype, np.floating), \"Q1b: Your series should have a float dtype. \"\n",
    "\n",
    "# Some hidden tests\n",
    "\n",
    "\n",
    "del stu_ans, stu_ser"
   ]
  },
  {
   "cell_type": "markdown",
   "metadata": {
    "deletable": false,
    "editable": false,
    "nbgrader": {
     "checksum": "cf4b6a72880589495152367be67dbdb6",
     "grade": false,
     "grade_id": "cell-36e023c65cfab334",
     "locked": true,
     "schema_version": 1,
     "solution": false
    }
   },
   "source": [
    "This time let's plot and see the rolling statistics together with the log returns. Are the log returns of our time series stationary? Why or why not? "
   ]
  },
  {
   "cell_type": "code",
   "execution_count": 33,
   "metadata": {},
   "outputs": [
    {
     "data": {
      "image/png": "[encoded data removed]",
      "text/plain": [
       "<Figure size 720x432 with 1 Axes>"
      ]
     },
     "metadata": {
      "needs_background": "light"
     },
     "output_type": "display_data"
    }
   ],
   "source": [
    "# Let's plot and see the rolling statistics\n",
    "\n",
    "log_ret, wd_size = calc_log_ret(load_data()), 7\n",
    "rolling_mean, rolling_std = calc_rolling_stats(log_ret, wd_size)\n",
    "\n",
    "fig, ax = plt.subplots(figsize=(10, 6))\n",
    "ax.plot(log_ret, label=\"Log Return\")\n",
    "ax.plot(pd.Series(rolling_mean, index=log_ret.index), label=\"Rolling Mean\")\n",
    "ax.plot(pd.Series(rolling_std, index=log_ret.index), label=\"Rolling Std\")\n",
    "\n",
    "ax.set_xlabel(\"Day\")\n",
    "ax.set_title(\"Log Return of Daily New COVID-19 Cases Worldwide\\n\" + f\"Rolling Stats with Window Size = {wd_size} Days\")\n",
    "ax.legend()\n",
    "\n",
    "del fig, ax, log_ret, wd_size, rolling_mean, rolling_std"
   ]
  },
  {
   "cell_type": "markdown",
   "metadata": {
    "deletable": false,
    "editable": false,
    "nbgrader": {
     "checksum": "665abe6e40e58a59bb9f961e357ebf3e",
     "grade": false,
     "grade_id": "cell-1e1b096292b15b41",
     "locked": true,
     "schema_version": 1,
     "solution": false
    }
   },
   "source": [
    "Yet another way of determining stationarity would be to use a statistical test, such as the [Augmented Dickey-Fuller unit root test](https://en.wikipedia.org/wiki/Augmented_Dickey%E2%80%93Fuller_test). The null hypothesis is usually that the time series is non-stationary. A $p$-value less than $0.05$ would lead to the conclusion that the time series is stationary, although some [scientists have rised up against this magic numer](https://www.nature.com/articles/d41586-019-00857-9)!"
   ]
  },
  {
   "cell_type": "code",
   "execution_count": 34,
   "metadata": {},
   "outputs": [
    {
     "name": "stdout",
     "output_type": "stream",
     "text": [
      "p-value: 0.6765852511544113\n"
     ]
    }
   ],
   "source": [
    "# An example of performing an Augmented Dickey-Fuller unit root test\n",
    "\n",
    "from statsmodels.tsa.stattools import adfuller\n",
    "\n",
    "_, pval, *_ = adfuller(load_data())\n",
    "print(f\"p-value: {pval}\")\n",
    "\n",
    "del adfuller, pval"
   ]
  },
  {
   "cell_type": "markdown",
   "metadata": {
    "deletable": false,
    "editable": false,
    "nbgrader": {
     "checksum": "9501f6470fc115ee9199a85b9763d41a",
     "grade": false,
     "grade_id": "cell-2939c5cace465fa0",
     "locked": true,
     "schema_version": 1,
     "solution": false
    }
   },
   "source": [
    "## Question 2: Autocorrelations (10 pts)\n",
    "\n",
    "Observations in a time series are often not isolated but rather correlated. That is, there might be a correlation between an observation $y_{t}$ and another observation $y_{t - k}$ that is $k$ time steps (or *lags*) earlier. (Partial) autocorrelations precisely capture this idea. "
   ]
  },
  {
   "cell_type": "markdown",
   "metadata": {
    "deletable": false,
    "editable": false,
    "nbgrader": {
     "checksum": "dce0bff181e15e237ceeb84214f47998",
     "grade": false,
     "grade_id": "cell-f9dcce57f7fd0e4a",
     "locked": true,
     "schema_version": 1,
     "solution": false
    }
   },
   "source": [
    "### Question 2a (5 pts)\n",
    "\n",
    "Complete the function below to calculate the **Autocorrelation Function (ACF)** of the input time series, with the maximum number of lags to consider specified by the parameter `max_lag`. You may use the `acf` function from the `statsmodels` library. \n",
    "\n",
    "**This function should return a `np.ndarray` of length `max_lag + 1`.**"
   ]
  },
  {
   "cell_type": "code",
   "execution_count": 35,
   "metadata": {
    "deletable": false,
    "nbgrader": {
     "checksum": "97d9c5c8a9db00b3393abcc191dbdbdf",
     "grade": false,
     "grade_id": "cell-e896207bcc59798b",
     "locked": false,
     "schema_version": 1,
     "solution": true
    }
   },
   "outputs": [],
   "source": [
    "def calc_acf(ser, max_lag):\n",
    "    \"\"\"\n",
    "    Takes a series and calculates the ACF\n",
    "    \"\"\"\n",
    "    from statsmodels.tsa.stattools import acf, pacf\n",
    "    \n",
    "    ans_acf = None\n",
    "    \n",
    "    ans_acf = acf(ser,nlags=max_lag)\n",
    "    \n",
    "    # YOUR CODE HERE\n",
    "    #raise NotImplementedError()\n",
    "    \n",
    "    return ans_acf"
   ]
  },
  {
   "cell_type": "code",
   "execution_count": 36,
   "metadata": {},
   "outputs": [
    {
     "data": {
      "text/plain": [
       "array([1.        , 0.97535964, 0.94724559, 0.92385736, 0.91386313,\n",
       "       0.9167115 , 0.92474083, 0.92029816, 0.89570334, 0.86531167,\n",
       "       0.83986903, 0.82678187, 0.82650348, 0.82935306, 0.82125569,\n",
       "       0.79719604, 0.76575177, 0.74163109, 0.72568749, 0.72337754,\n",
       "       0.72382142, 0.71434956, 0.68860387, 0.65799162, 0.63121293,\n",
       "       0.61553004, 0.61048868, 0.60786787, 0.59472779, 0.56872414,\n",
       "       0.53846277])"
      ]
     },
     "execution_count": 36,
     "metadata": {},
     "output_type": "execute_result"
    }
   ],
   "source": [
    "##Testing\n",
    "\n",
    "from statsmodels.tsa.stattools import acf, pacf\n",
    "\n",
    "stu_ser, max_lag = load_data(), 30\n",
    "test = acf(stu_ser,nlags = max_lag)\n",
    "test"
   ]
  },
  {
   "cell_type": "code",
   "execution_count": 37,
   "metadata": {
    "deletable": false,
    "editable": false,
    "nbgrader": {
     "checksum": "f4fd8af5708046b3684a559b3dcd0c36",
     "grade": true,
     "grade_id": "cell-b9358e200e7341eb",
     "locked": true,
     "points": 5,
     "schema_version": 1,
     "solution": false
    }
   },
   "outputs": [],
   "source": [
    "# Autograder tests\n",
    "\n",
    "stu_ser, max_lag = load_data(), 30\n",
    "stu_ans = calc_acf(stu_ser, max_lag)\n",
    "\n",
    "assert isinstance(stu_ans, np.ndarray), \"Q2a: Your function should return a np.ndarray. \"\n",
    "assert len(stu_ans) == max_lag + 1, \"Q2a: The length of the ACF returned is incorrect. \"\n",
    "assert np.issubdtype(stu_ans.dtype, np.floating), \"Q2a: Your np.ndarray should have a float dtype. \"\n",
    "\n",
    "\n",
    "# Some hidden tests\n",
    "\n",
    "\n",
    "del stu_ans, stu_ser, max_lag"
   ]
  },
  {
   "cell_type": "markdown",
   "metadata": {
    "deletable": false,
    "editable": false,
    "nbgrader": {
     "checksum": "118bc9ff054954b16d1a9ea19fd9abe4",
     "grade": false,
     "grade_id": "cell-b06194f2c905a730",
     "locked": true,
     "schema_version": 1,
     "solution": false
    }
   },
   "source": [
    "Let's see a plot of the ACF. "
   ]
  },
  {
   "cell_type": "code",
   "execution_count": 38,
   "metadata": {},
   "outputs": [
    {
     "data": {
      "image/png": "[encoded data removed]",
      "text/plain": [
       "<Figure size 576x432 with 1 Axes>"
      ]
     },
     "metadata": {
      "needs_background": "light"
     },
     "output_type": "display_data"
    }
   ],
   "source": [
    "from statsmodels.graphics.tsaplots import plot_acf\n",
    "\n",
    "ser, max_lag = load_data(), 30\n",
    "\n",
    "fig, ax = plt.subplots(1, 1, figsize=(8, 6))\n",
    "\n",
    "plot_acf(ser, ax, lags=max_lag, title=\"Daily New COVID-19 Cases Worldwide\\nAutocorrelation Function\")\n",
    "ax.set_xlabel(r\"Lag\")\n",
    "ax.set_ylabel(r\"Correlation\")\n",
    "\n",
    "del fig, ax, ser, max_lag, plot_acf"
   ]
  },
  {
   "cell_type": "markdown",
   "metadata": {
    "deletable": false,
    "editable": false,
    "nbgrader": {
     "checksum": "6958dd9bdae57481f51f99d306a0462c",
     "grade": false,
     "grade_id": "cell-5246f448e422cd04",
     "locked": true,
     "schema_version": 1,
     "solution": false
    }
   },
   "source": [
    "### Question 2b (5 pts)\n",
    "\n",
    "Complete the function below to calculate the **Partial Autocorrelation Function (PACF)** of the input time series, with the maximum number of lags to consider specified by the parameter `max_lag`. You may use the `pacf` function from the `statsmodels` library. \n",
    "\n",
    "**This function should return a `np.ndarray` of length `max_lag + 1`.**"
   ]
  },
  {
   "cell_type": "code",
   "execution_count": 39,
   "metadata": {
    "deletable": false,
    "nbgrader": {
     "checksum": "a2a2427596d69b14fd7c868b5165754a",
     "grade": false,
     "grade_id": "cell-371c94cdc6c0929c",
     "locked": false,
     "schema_version": 1,
     "solution": true
    }
   },
   "outputs": [],
   "source": [
    "def calc_pacf(ser, max_lag):\n",
    "    \"\"\"\n",
    "    Takes a series and calculates the PACF\n",
    "    \"\"\"\n",
    "    from statsmodels.tsa.stattools import acf, pacf\n",
    "    \n",
    "    ans_pacf = None\n",
    "    \n",
    "    ans_pacf = pacf(ser,nlags=max_lag)\n",
    "    \n",
    "    # YOUR CODE HERE\n",
    "    #raise NotImplementedError()\n",
    "    \n",
    "    return ans_pacf"
   ]
  },
  {
   "cell_type": "code",
   "execution_count": 40,
   "metadata": {},
   "outputs": [],
   "source": [
    "## Testing\n",
    "\n"
   ]
  },
  {
   "cell_type": "code",
   "execution_count": 41,
   "metadata": {
    "deletable": false,
    "editable": false,
    "nbgrader": {
     "checksum": "a043b6c11ab3f0a714d7231f22e272a1",
     "grade": true,
     "grade_id": "cell-9c2ceefef7c5d9c2",
     "locked": true,
     "points": 5,
     "schema_version": 1,
     "solution": false
    }
   },
   "outputs": [],
   "source": [
    "# Autograder tests\n",
    "\n",
    "stu_ser, max_lag = load_data(), 30\n",
    "stu_ans = calc_pacf(stu_ser, max_lag)\n",
    "\n",
    "assert isinstance(stu_ans, np.ndarray), \"Q2b: Your function should return a np.ndarray. \"\n",
    "assert len(stu_ans) == max_lag + 1, \"Q2b: The length of the PACF returned is incorrect. \"\n",
    "assert np.issubdtype(stu_ans.dtype, np.floating), \"Q2b: Your np.ndarray should have a float dtype. \"\n",
    "\n",
    "# Some hidden tests\n",
    "\n",
    "\n",
    "del stu_ans, stu_ser, max_lag"
   ]
  },
  {
   "cell_type": "markdown",
   "metadata": {
    "deletable": false,
    "editable": false,
    "nbgrader": {
     "checksum": "e1bae8f9e67fa24e9af843c22aa1108a",
     "grade": false,
     "grade_id": "cell-b51865eb271a7496",
     "locked": true,
     "schema_version": 1,
     "solution": false
    }
   },
   "source": [
    "Let's see a plot of the PACF. "
   ]
  },
  {
   "cell_type": "code",
   "execution_count": 42,
   "metadata": {},
   "outputs": [
    {
     "data": {
      "image/png": "[encoded data removed]",
      "text/plain": [
       "<Figure size 576x432 with 1 Axes>"
      ]
     },
     "metadata": {
      "needs_background": "light"
     },
     "output_type": "display_data"
    }
   ],
   "source": [
    "from statsmodels.graphics.tsaplots import plot_pacf\n",
    "\n",
    "ser, max_lag = load_data(), 30\n",
    "\n",
    "fig, ax = plt.subplots(1, 1, figsize=(8, 6))\n",
    "\n",
    "plot_pacf(ser, ax, lags=max_lag, title=\"Daily New COVID-19 Cases Worldwide\\nPartial Autocorrelation Function\")\n",
    "ax.set_xlabel(r\"Lag\")\n",
    "ax.set_ylabel(r\"Correlation\")\n",
    "\n",
    "del fig, ax, ser, max_lag, plot_pacf"
   ]
  },
  {
   "cell_type": "markdown",
   "metadata": {
    "deletable": false,
    "editable": false,
    "nbgrader": {
     "checksum": "294ded2301dc21155e14a4c1f2e19400",
     "grade": false,
     "grade_id": "cell-4b22a356806c732d",
     "locked": true,
     "schema_version": 1,
     "solution": false
    }
   },
   "source": [
    "## Question 3: ARMA on Log Returns (10 pts)\n",
    "\n",
    "Complete the function below that fits an $\\mathrm{ARMA}(p, q)$ model on the **log return** of an input series. Your function should return a multi-day forecast in the original data space (i.e., the number of daily new cases globally) starting from `2020-08-22`. For example, if `num_forecasts=20`, your function should return a `pd.Series` similar to\n",
    "\n",
    "\n",
    "```\n",
    "2020-08-22    239936.746954\n",
    "2020-08-23    237307.407386\n",
    "2020-08-24    240073.408295\n",
    "                ...\n",
    "2020-09-08    279778.977067\n",
    "2020-09-09    307210.157343\n",
    "2020-09-10    305203.431533\n",
    "Freq: D, Name: predicted_mean, dtype: float64\n",
    "\n",
    "```\n",
    "\n",
    "where\n",
    "* the index of the series is a `pd.DatetimeIndex`; \n",
    "* the values of the series are the forecasted daily new cases; and\n",
    "* the series doesn't contain any `NaN` values. \n",
    "\n",
    "This question is graded on the Root Mean Sqaure Error (RMSE) of your forecasts. You have complete freedom in how you'd like to implement the function, but one recommended API to use is the `ARIMA` class from the `statsmodels` library. Why do we recommend `ARIMA`, when the question actually asks for a $\\mathrm{ARMA}(p, q)$ model? Hopefully you'll find it out while working on the implementation!\n",
    "\n",
    "It's fine if you receive a `ConvergenceWarning` when running your code. In fact, it would be interesting to think about *why* you should receive such. What characteristics of your input time series make the model fail to converge? \n",
    "\n",
    "**This function should return a `pd.Series` of length `num_forecasts`, whose index is a `pd.DatetimeIndex`.**"
   ]
  },
  {
   "cell_type": "code",
   "execution_count": 80,
   "metadata": {
    "deletable": false,
    "nbgrader": {
     "checksum": "48c740b20965ba5c77bb586d78e60d50",
     "grade": false,
     "grade_id": "cell-69afe3a5c5318d23",
     "locked": false,
     "schema_version": 1,
     "solution": true
    }
   },
   "outputs": [],
   "source": [
    "from statsmodels.tsa.arima.model import ARIMA\n",
    "\n",
    "def arma_log_ret(ser, p, q, num_forecasts):\n",
    "    \"\"\"\n",
    "    Takes a series and fits an ARMA(p, q) model on log return. \n",
    "    Returns a number of forecasts as specified by num_forecasts. \n",
    "    \"\"\"\n",
    "    \n",
    "    forecasts = None\n",
    "    from statsmodels.tsa.arima.model import ARIMA\n",
    "    \n",
    "    \n",
    "    arima = ARIMA(ser, order = (p,0,q))\n",
    "    arima_fit = arima.fit()\n",
    "\n",
    "    forecasts = arima_fit.forecast(num_forecasts)\n",
    "\n",
    "    # YOUR CODE HERE\n",
    "    #raise NotImplementedError()\n",
    "    \n",
    "    return forecasts\n"
   ]
  },
  {
   "cell_type": "code",
   "execution_count": 85,
   "metadata": {},
   "outputs": [
    {
     "name": "stderr",
     "output_type": "stream",
     "text": [
      "/opt/conda/lib/python3.7/site-packages/statsmodels/base/model.py:568: ConvergenceWarning: Maximum Likelihood optimization failed to converge. Check mle_retvals\n",
      "  ConvergenceWarning)\n"
     ]
    },
    {
     "data": {
      "text/plain": [
       "2020-08-22    241043.461428\n",
       "2020-08-23    206304.604567\n",
       "2020-08-24    208371.817486\n",
       "2020-08-25    241506.029174\n",
       "2020-08-26    260974.998868\n",
       "2020-08-27    271461.864685\n",
       "2020-08-28    269353.245242\n",
       "2020-08-29    241719.074083\n",
       "2020-08-30    205894.212677\n",
       "2020-08-31    209840.101332\n",
       "2020-09-01    239518.497888\n",
       "2020-09-02    260496.704873\n",
       "2020-09-03    270234.461657\n",
       "2020-09-04    269478.712098\n",
       "2020-09-05    240921.754033\n",
       "2020-09-06    206846.175693\n",
       "2020-09-07    210068.522033\n",
       "2020-09-08    238568.089016\n",
       "2020-09-09    259263.038709\n",
       "2020-09-10    269587.293860\n",
       "Freq: D, Name: predicted_mean, dtype: float64"
      ]
     },
     "execution_count": 85,
     "metadata": {},
     "output_type": "execute_result"
    }
   ],
   "source": [
    "from statsmodels.tsa.arima.model import ARIMA\n",
    "\n",
    "stu_ser = load_data()\n",
    "p, q, num_forecasts = 7, 7, 20\n",
    "\n",
    "\n",
    "# ser_c = stu_ser.copy()\n",
    "# ser_c['log_ret'] = np.log(ser_c) - np.log(ser_c.shift(1))\n",
    "# log_ret = ser_c['log_ret'][1:]\n",
    "\n",
    "\n",
    "#stu_ser.index = stu_ser.index.to_period('D')\n",
    "arima = ARIMA(stu_ser, order = (p,0,q))\n",
    "arima_fit = arima.fit()\n",
    "\n",
    "forecasts = arima_fit.forecast(num_forecasts)\n",
    "forecasts\n",
    "\n"
   ]
  },
  {
   "cell_type": "code",
   "execution_count": 73,
   "metadata": {
    "deletable": false,
    "editable": false,
    "nbgrader": {
     "checksum": "504f54d65cadbb1ad335ddc2e60f9abc",
     "grade": true,
     "grade_id": "cell-42effd305abc8d0d",
     "locked": true,
     "points": 10,
     "schema_version": 1,
     "solution": false
    }
   },
   "outputs": [
    {
     "name": "stderr",
     "output_type": "stream",
     "text": [
      "/opt/conda/lib/python3.7/site-packages/statsmodels/base/model.py:568: ConvergenceWarning: Maximum Likelihood optimization failed to converge. Check mle_retvals\n",
      "  ConvergenceWarning)\n"
     ]
    }
   ],
   "source": [
    "# Autograder tests\n",
    "\n",
    "stu_ser = load_data()\n",
    "p, q, num_forecasts = 7, 7, 20\n",
    "\n",
    "stu_ans = arma_log_ret(stu_ser, p, q, num_forecasts)\n",
    "\n",
    "assert isinstance(stu_ans, pd.Series), \"Q3: Your function should return a pd.Series. \"\n",
    "assert len(stu_ans) == num_forecasts, \"Q3: The length of the series returned is incorrect. \"\n",
    "assert isinstance(stu_ans.index, pd.DatetimeIndex), \"Q3: The index of your series must be a pd.DatetimeIndex. \"\n",
    "assert ((\"2020-08-22\" <= stu_ans.index) & (stu_ans.index <= \"2020-09-10\")).all(), \"Q3: The index of your series contains an incorrect time range. \"\n",
    "assert not stu_ans.isna().any(), \"Q3: Your series contains NaN values. \"\n",
    "assert np.issubdtype(stu_ans.dtype, np.floating), \"Q3: Your series should have a float dtype. \"\n",
    "\n",
    "# Some hidden tests\n",
    "\n",
    "\n",
    "del stu_ser, stu_ans, p, q, num_forecasts"
   ]
  },
  {
   "cell_type": "markdown",
   "metadata": {
    "deletable": false,
    "editable": false,
    "nbgrader": {
     "checksum": "85f7499158e69167ebc8965f2cb5f51a",
     "grade": false,
     "grade_id": "cell-221cc22c9e3cad75",
     "locked": true,
     "schema_version": 1,
     "solution": false
    }
   },
   "source": [
    "Now let's plot and compare the original time series, your forecasts and the ground-truth values of your forecasts. "
   ]
  },
  {
   "cell_type": "code",
   "execution_count": 74,
   "metadata": {},
   "outputs": [
    {
     "name": "stderr",
     "output_type": "stream",
     "text": [
      "/opt/conda/lib/python3.7/site-packages/statsmodels/base/model.py:568: ConvergenceWarning: Maximum Likelihood optimization failed to converge. Check mle_retvals\n",
      "  ConvergenceWarning)\n"
     ]
    },
    {
     "data": {
      "image/png": "[encoded data removed]",
      "text/plain": [
       "<Figure size 720x432 with 1 Axes>"
      ]
     },
     "metadata": {
      "needs_background": "light"
     },
     "output_type": "display_data"
    }
   ],
   "source": [
    "ser = load_data()\n",
    "p, q, num_forecasts = 7, 7, 20\n",
    "\n",
    "forecasts = arma_log_ret(ser, p, q, num_forecasts)\n",
    "actual = pd.read_pickle(\"assets/actual.pkl\")\n",
    "rmse = np.sqrt(np.mean((actual - forecasts) ** 2))\n",
    "\n",
    "fig, ax = plt.subplots(figsize=(10, 6))\n",
    "ax.plot(ser, label=\"Original\")\n",
    "ax.plot(ser[-1:].append(forecasts), label=\"Forecasted\")\n",
    "ax.plot(ser[-1:].append(actual), label=\"Actual\")\n",
    "\n",
    "ax.set_xlabel(\"Day\")\n",
    "ax.set_title(\"Daily New COVID-19 Cases Worldwide\\n\" + f\"A {len(forecasts)}-day Forecast, RMSE = {rmse: .2f}\")\n",
    "ax.legend()\n",
    "\n",
    "del fig, ax, ser, p, q, num_forecasts, forecasts, actual"
   ]
  },
  {
   "cell_type": "markdown",
   "metadata": {
    "deletable": false,
    "editable": false,
    "nbgrader": {
     "checksum": "2617af67ee17de7d0faa6cc4015089d9",
     "grade": false,
     "grade_id": "cell-caf5a40a85230775",
     "locked": true,
     "schema_version": 1,
     "solution": false
    }
   },
   "source": [
    "## Question 4: ARMA on First-order Differences (10 pts)\n",
    "\n",
    "Complete the function below that fits an $\\mathrm{ARMA}(p, q)$ model on the **first-order differences** of an input series. Your function should return a multi-day forecast in the original data space (i.e., the number of daily new cases globally) starting from `2020-08-22`. For example, if `num_forecasts=20`, your function should return a `pd.Series` similar to\n",
    "\n",
    "\n",
    "```\n",
    "2020-08-22    242994.084820\n",
    "2020-08-23    205194.792913\n",
    "2020-08-24    201803.644029\n",
    "                ...\n",
    "2020-09-08    214574.419936\n",
    "2020-09-09    243506.281330\n",
    "2020-09-10    253847.751339\n",
    "Freq: D, Name: predicted_mean, dtype: float64\n",
    "```\n",
    "\n",
    "where\n",
    "* the index of the series is a `pd.DatetimeIndex`; \n",
    "* the values of the series are the forecasted daily new cases; and\n",
    "* the series doesn't contain any `NaN` values. \n",
    "\n",
    "This question is graded on the Root Mean Sqaure Error (RMSE) of your forecasts. You have complete freedom in how you'd like to implement the function, but one recommended API to use is the `ARIMA` class from the `statsmodels` library. Why do we recommend `ARIMA`, when the question actually asks for a $\\mathrm{ARMA}(p, q)$ model? Again, hopefully you'll find it out while working on the implementation!\n",
    "\n",
    "It's fine if you receive a `ConvergenceWarning` or a `UserWarning` when running your code. Still, it would be interesting to think about what characteristics of your input time series make the model fail to converge. \n",
    "\n",
    "**This function should return a `pd.Series` of length `num_forecasts`, whose index is a `pd.DatetimeIndex`.**"
   ]
  },
  {
   "cell_type": "code",
   "execution_count": 76,
   "metadata": {
    "deletable": false,
    "nbgrader": {
     "checksum": "65bfc5437a3f189801359fa038b4b5ba",
     "grade": false,
     "grade_id": "cell-e02c1a2ff068f6c2",
     "locked": false,
     "schema_version": 1,
     "solution": true
    }
   },
   "outputs": [],
   "source": [
    "from statsmodels.tsa.arima.model import ARIMA\n",
    "\n",
    "def arma_first_diff(ser, p, q, num_forecasts):\n",
    "    \"\"\"\n",
    "    Takes a series and fits an ARMA(p, q) model on first-order diff. \n",
    "    Returns a number of forecasts as specified by num_forecasts. \n",
    "    \"\"\"\n",
    "    \n",
    "    forecasts = None\n",
    "    from statsmodels.tsa.arima.model import ARIMA\n",
    "    \n",
    "    \n",
    "    arima = ARIMA(ser, order = (p,1,q))\n",
    "    arima_fit = arima.fit()\n",
    "\n",
    "    forecasts = arima_fit.forecast(num_forecasts)\n",
    "\n",
    "    # YOUR CODE HERE\n",
    "    #raise NotImplementedError()\n",
    "    \n",
    "    return forecasts"
   ]
  },
  {
   "cell_type": "code",
   "execution_count": 77,
   "metadata": {
    "deletable": false,
    "editable": false,
    "nbgrader": {
     "checksum": "1b50c60d9d8a14a94bc2d23ea94fdb5e",
     "grade": true,
     "grade_id": "cell-da7ae71db1772443",
     "locked": true,
     "points": 10,
     "schema_version": 1,
     "solution": false
    }
   },
   "outputs": [
    {
     "name": "stderr",
     "output_type": "stream",
     "text": [
      "/opt/conda/lib/python3.7/site-packages/statsmodels/base/model.py:568: ConvergenceWarning: Maximum Likelihood optimization failed to converge. Check mle_retvals\n",
      "  ConvergenceWarning)\n"
     ]
    }
   ],
   "source": [
    "# Autograder tests\n",
    "\n",
    "stu_ser = load_data()\n",
    "p, q, num_forecasts = 7, 7, 20\n",
    "\n",
    "stu_ans = arma_first_diff(stu_ser, p, q, num_forecasts)\n",
    "\n",
    "assert isinstance(stu_ans, pd.Series), \"Q4: Your function should return a pd.Series. \"\n",
    "assert len(stu_ans) == num_forecasts, \"Q4: The length of the series returned is incorrect. \"\n",
    "assert isinstance(stu_ans.index, pd.DatetimeIndex), \"Q4: The index of your series must be a pd.DatetimeIndex. \"\n",
    "assert ((\"2020-08-22\" <= stu_ans.index) & (stu_ans.index <= \"2020-09-10\")).all(), \"Q4: The index of your series contains an incorrect time range. \"\n",
    "assert not stu_ans.isna().any(), \"Q4: Your series contains NaN values. \"\n",
    "assert np.issubdtype(stu_ans.dtype, np.floating), \"Q4: Your series should have a float dtype. \"\n",
    "\n",
    "# Some hidden tests\n",
    "\n",
    "\n",
    "del stu_ser, stu_ans, p, q, num_forecasts"
   ]
  },
  {
   "cell_type": "markdown",
   "metadata": {
    "deletable": false,
    "editable": false,
    "nbgrader": {
     "checksum": "ffd533cb430c5a3827d3acdce6ffdc4c",
     "grade": false,
     "grade_id": "cell-5405507ff23a5069",
     "locked": true,
     "schema_version": 1,
     "solution": false
    }
   },
   "source": [
    "Now let's plot and compare the original time series, your forecasts and the ground-truth values of your forecasts. How does this compare with the one trained on log returns? "
   ]
  },
  {
   "cell_type": "code",
   "execution_count": 78,
   "metadata": {},
   "outputs": [
    {
     "name": "stderr",
     "output_type": "stream",
     "text": [
      "/opt/conda/lib/python3.7/site-packages/statsmodels/base/model.py:568: ConvergenceWarning: Maximum Likelihood optimization failed to converge. Check mle_retvals\n",
      "  ConvergenceWarning)\n"
     ]
    },
    {
     "data": {
      "image/png": "[encoded data removed]",
      "text/plain": [
       "<Figure size 720x432 with 1 Axes>"
      ]
     },
     "metadata": {
      "needs_background": "light"
     },
     "output_type": "display_data"
    }
   ],
   "source": [
    "ser = load_data()\n",
    "p, q, num_forecasts = 7, 7, 20\n",
    "\n",
    "forecasts = arma_first_diff(ser, p, q, num_forecasts)\n",
    "actual = pd.read_pickle(\"assets/actual.pkl\")\n",
    "rmse = np.sqrt(np.mean((actual - forecasts) ** 2))\n",
    "\n",
    "fig, ax = plt.subplots(figsize=(10, 6))\n",
    "ax.plot(ser, label=\"Original\")\n",
    "ax.plot(ser[-1:].append(forecasts), label=\"Forecasted\")\n",
    "ax.plot(ser[-1:].append(actual), label=\"Actual\")\n",
    "\n",
    "ax.set_xlabel(\"Day\")\n",
    "ax.set_title(\"Daily New COVID-19 Cases Worldwide\\n\" + f\"A {len(forecasts)}-day Forecast, RMSE = {rmse: .2f}\")\n",
    "ax.legend()\n",
    "\n",
    "del fig, ax, ser, p, q, num_forecasts, forecasts, actual"
   ]
  },
  {
   "cell_type": "code",
   "execution_count": null,
   "metadata": {},
   "outputs": [],
   "source": []
  }
 ],
 "metadata": {
  "coursera": {
   "schema_names": [
    "mads_data_mining_ii_v1_assignment3_part1"
   ]
  },
  "kernelspec": {
   "display_name": "Python 3 (ipykernel)",
   "language": "python",
   "name": "python3"
  },
  "language_info": {
   "codemirror_mode": {
    "name": "ipython",
    "version": 3
   },
   "file_extension": ".py",
   "mimetype": "text/x-python",
   "name": "python",
   "nbconvert_exporter": "python",
   "pygments_lexer": "ipython3",
   "version": "3.7.10"
  }
 },
 "nbformat": 4,
 "nbformat_minor": 1
}
